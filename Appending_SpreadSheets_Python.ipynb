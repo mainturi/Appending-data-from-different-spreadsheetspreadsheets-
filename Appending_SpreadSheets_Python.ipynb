{
 "cells": [
  {
   "cell_type": "code",
   "execution_count": 1,
   "metadata": {},
   "outputs": [],
   "source": [
    "#Importing necessary modules\n",
    "\n",
    "import time\n",
    "import gspread\n",
    "import pandas as pd\n",
    "import numpy as np\n",
    "from oauth2client.service_account import ServiceAccountCredentials\n",
    "import os"
   ]
  },
  {
   "cell_type": "markdown",
   "metadata": {},
   "source": [
    "To get the Spredsheet API: \n",
    "    https://developers.google.com/sheets/api/reference/rest/v4/spreadsheets/get\n",
    "        \n",
    "More on the scope of usage:\n",
    "    https://developers.google.com/sheets/api/guides/authorizing         \n",
    "    \n",
    "    Note: Share the spread sheet so that \"Anyone witht the link can view\", otherwise you might get a           permission error, also allow time lag so that API is not over bumped with you requests"
   ]
  },
  {
   "cell_type": "code",
   "execution_count": 2,
   "metadata": {},
   "outputs": [],
   "source": [
    "# Change to folder where you have the API key extracted from the method mentioned below.\n",
    "\n",
    "os.chdir('FolderContainingAPIKey')"
   ]
  },
  {
   "cell_type": "code",
   "execution_count": 3,
   "metadata": {},
   "outputs": [],
   "source": [
    "# Scope defiend that the drive has a read only access\n",
    "\n",
    "scope = ['https://www.googleapis.com/auth/drive.readonly']\n",
    "credentials = ServiceAccountCredentials.from_json_keyfile_name('ShrimpTalkPonds.json', scope)\n",
    "client = gspread.authorize(credentials)\n",
    "\n",
    "urls = [\"https://docs.google.com/spreadsheets/d/1t4l5-J3xPtsTWI8gJ_zU_xq1M0zRGc2RxQ9GhAduESI/\",\n",
    "        \"https://docs.google.com/spreadsheets/d/1JxC_QEROWQ-O-7vw5DnyR6tXXlptRbaaAlTpjMYO1Pw/\"]\n",
    "\n",
    "all_sheets = []\n",
    "for url in urls:\n",
    "    try:\n",
    "# Provide the sheetname that has your data to append\n",
    "#extract data leving row0 as this might contain header\n",
    "        sheets = client.open_by_url(url).worksheet('Sheet1').get_all_values()\n",
    "        all_sheets.extend(sheets[1:])\n",
    "        time.sleep(5)\n",
    "    except Exception as e:\n",
    "        print(e)"
   ]
  },
  {
   "cell_type": "code",
   "execution_count": 4,
   "metadata": {},
   "outputs": [
    {
     "name": "stdout",
     "output_type": "stream",
     "text": [
      "                Date   Close\n",
      "0  1/2/2018 15:30:00  514.85\n",
      "1  1/3/2018 15:30:00  510.65\n",
      "2  1/4/2018 15:30:00   507.7\n",
      "3  1/5/2018 15:30:00     506\n",
      "4  1/8/2018 15:30:00  518.03\n"
     ]
    }
   ],
   "source": [
    "# Converting the list to DataFrame\n",
    "\n",
    "df = pd.DataFrame(all_sheets, columns= ['Date', 'Close'])\n",
    "\n",
    "print(df.head())"
   ]
  }
 ],
 "metadata": {
  "kernelspec": {
   "display_name": "Python 3",
   "language": "python",
   "name": "python3"
  },
  "language_info": {
   "codemirror_mode": {
    "name": "ipython",
    "version": 3
   },
   "file_extension": ".py",
   "mimetype": "text/x-python",
   "name": "python",
   "nbconvert_exporter": "python",
   "pygments_lexer": "ipython3",
   "version": "3.7.3"
  }
 },
 "nbformat": 4,
 "nbformat_minor": 2
}
